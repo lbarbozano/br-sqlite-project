{
 "cells": [
  {
   "cell_type": "markdown",
   "metadata": {},
   "source": [
    "# Awari - Data Science\n",
    "\n",
    "## Projeto - Python com SQLite\n",
    "\n",
    "## 1. Considerações iniciais\n",
    "\n",
    "Para que você assimile melhor os comandos do SQL, preparamos este projeto de Python com SQLite. Neste notebook Jupyter, você irá reforçando alguns conceitos da unidade atual e deverá executar algumas tarefas pelo caminho. Todo o projeto deve ser executado neste Jupyter Notebook. Por fim, se desejar, revise as respostas com o seu mentor.\n",
    "\n",
    "### 1.1. Por que SQLite?\n",
    "O SQLite é uma pequena biblioteca em C que possui um banco de dados SQL embutido. Sem o apoio de um poderoso SGDB (Sistema de Gerenciamento de Banco de Dados) como nas soluções do mercado, o SQLite é ideal para fins de aprendizagem, pois sua instalação é fácil e não requer nenhuma configuração inicial. Deste modo, podemos focar nos comandos do SQL.\n",
    "\n",
    "### 1.2. Prepare seu ambiente\n",
    "Baixe e instale o SQLite antes de começar. Resumidamente, você irá acessar a página de [Downloads](https://www.sqlite.org/download.html) do SQLite e baixar os executáveis para a mesma pasta deste notebook. Caso você encontre dificuldades:\n",
    "\n",
    "- Assista a este [vídeo](https://www.youtube.com/watch?v=VcKKt6OTlJc) para \"instalar\" o SQLite no Windows ou;\n",
    "- Ou siga este [manual](http://www.devfuria.com.br/linux/instalando-sqlite/) para as plataformas Linux.\n",
    "\n",
    "### 1.3. Conjunto de dados\n",
    "\n",
    "O conjunto de dados que iremos utilizar é derivado do [Titanic](https://www.kaggle.com/c/titanic/data). Na verdade, dividimos o conjunto em dois arquivos CSV - [passageiros](passageiros.csv) e [passagens](passagens.csv). Cada um destes arquivo serão inseridos dentro do SQLite como tabelas, onde você executará suas consultas SQL.\n",
    "\n",
    "#### 1.3.1. Descrição do dados\n",
    "\n",
    "No arquivo [passageiros](passageiros.csv), você encontrará:\n",
    "- PassengerId: Id do passageiro\n",
    "- Survived: Se o passageiro sobreviveu ou não. Se 0, então não sobreviveu. Se 1, sobreviveu.\n",
    "- Pclass: Classe em que o passageiro estava viajando. Se 1, então estava na primeira classe e assim por diante.\n",
    "- Name: Nome do passageiro.\n",
    "- Sex: Gênero do passageiro. Masculino ou feminino.\n",
    "- Age: Idade.\n",
    "- Sibsp: número de irmãos / esposas a bordo do navio.\n",
    "- Parch: número de pais / filhos a bordo do navio.\n",
    "\n",
    "E no arquivo [passagens](passagens.csv):\n",
    "- PassengerId: Id do passageiro\n",
    "- Ticket: número do ticket de embarque\n",
    "- Fare: valor pago pelo ticket.\n",
    "- Cabin: cabine do passageiro.\n",
    "- Embarked: porto de embarque do passageiro. C = Cherbourg, Q = Queenstown e S = Southampton\n"
   ]
  },
  {
   "cell_type": "markdown",
   "metadata": {},
   "source": [
    "## 2. Procedimentos\n",
    "\n",
    "### 2.1. Leitura dos arquivos CSV\n",
    "Antes de importarmos os dados dentro das tabelas, precisamos começar lendo os arquivos CSV. O pequeno código abaixo importa os dados do CSV em uma lista de dicionários em Python."
   ]
  },
  {
   "cell_type": "code",
   "execution_count": null,
   "metadata": {},
   "outputs": [],
   "source": [
    "import csv \n",
    "\n",
    "def importar_csv(arquivo):\n",
    "    dados = []\n",
    "    with open(arquivo) as arq:\n",
    "        leitor = csv.DictReader(arq)\n",
    "        for l in leitor:\n",
    "            dados.append(dict(l))\n",
    "    \n",
    "    print('O conjunto de dados tem %s registros.' % len(dados))\n",
    "    \n",
    "    return dados"
   ]
  },
  {
   "cell_type": "markdown",
   "metadata": {},
   "source": [
    "### TAREFA 01\n",
    "\n",
    "1. Importe o arquivo passagens.csv usando o mesmo código anterior.\n",
    "2. Atualize as partes contendo `...` com o que falta no seu código\n",
    "\n",
    "**DICA**: Não reinvente a roda, reutilize a função anterior."
   ]
  },
  {
   "cell_type": "code",
   "execution_count": null,
   "metadata": {},
   "outputs": [],
   "source": [
    "passagens = importar_csv('passagens.csv')\n",
    "    \n",
    "def importar_csv(arquivo):\n",
    "    dados = []\n",
    "    with open(arquivo) as arq:\n",
    "        leitor = csv.DictReader(arq)\n",
    "        for l in leitor:\n",
    "            dados.append(dict(l))\n",
    "    \n",
    "    print('O conjunto de dados tem %s registros.' % len(dados))\n",
    "    \n",
    "    return dados"
   ]
  },
  {
   "cell_type": "markdown",
   "metadata": {},
   "source": [
    "### TAREFA 02\n",
    "1. Importe o arquivo passageiros.csv usando o mesmo código anterior."
   ]
  },
  {
   "cell_type": "code",
   "execution_count": null,
   "metadata": {},
   "outputs": [],
   "source": [
    "passageiros = importar_csv('passageiros.csv')\n",
    "    \n",
    "def importar_csv(arquivo):\n",
    "    dados = []\n",
    "    with open(arquivo) as arq:\n",
    "        leitor = csv.DictReader(arq)\n",
    "        for l in leitor:\n",
    "            dados.append(dict(l))\n",
    "    \n",
    "    print('O conjunto de dados tem %s registros.' % len(dados))\n",
    "    \n",
    "    return dados"
   ]
  },
  {
   "cell_type": "markdown",
   "metadata": {},
   "source": [
    "### 2.2. Criando o banco de dados\n",
    "Para manipular um banco SQLite com Python, temos que utilizar uma biblioteca específica."
   ]
  },
  {
   "cell_type": "code",
   "execution_count": null,
   "metadata": {},
   "outputs": [],
   "source": [
    "import sqlite3\n",
    "conn = sqlite3.connect('titanic.db')"
   ]
  },
  {
   "cell_type": "markdown",
   "metadata": {},
   "source": [
    "O comando acima cria o arquivo [titanic.db](titanic.db), que armazará nossos dados."
   ]
  },
  {
   "cell_type": "markdown",
   "metadata": {},
   "source": [
    "### 2.3. Criando as tabelas\n",
    "Neste momento, temos do dados e o banco SQLlite. Então é hora de começar à usar comandos SQL para criar as tabelas que armazenarão nossos dados dentro do banco.\n",
    "\n",
    "No SQLlite, precisamos primeiro criar uma conexão e um cursor para executar nossos comandos no banco. Para facilicar, o código abaixo facilita este processo. Você só precisa passar seu comando SQL para a função."
   ]
  },
  {
   "cell_type": "code",
   "execution_count": null,
   "metadata": {},
   "outputs": [],
   "source": [
    "def executa(comando):\n",
    "    cursor = conn.cursor()\n",
    "    cursor.execute(comando)\n",
    "    cursor.close()"
   ]
  },
  {
   "cell_type": "markdown",
   "metadata": {},
   "source": [
    "Não execute o comando abaixo, pois ele dá um erro. É só um exemplo"
   ]
  },
  {
   "cell_type": "code",
   "execution_count": null,
   "metadata": {},
   "outputs": [],
   "source": [
    "# Exemplo\n",
    "#comando = '<SEU_COMANDO_AQUI>'\n",
    "#executa(comando)"
   ]
  },
  {
   "cell_type": "markdown",
   "metadata": {},
   "source": [
    "### TAREFA 03\n",
    "1. Cria a tabela passageiros.\n",
    "2. PassengerId deve ser a chave primária.\n",
    "3. Atualize as partes contendo `...` com o que falta no seu código"
   ]
  },
  {
   "cell_type": "code",
   "execution_count": null,
   "metadata": {},
   "outputs": [],
   "source": [
    "tabela_passageiros_comando = \"\"\"\n",
    "CREATE TABLE passageiros(\n",
    "  PassengerId INTEGER NOT NULL PRIMARY KEY, \n",
    "  Survived INTEGER NOT NULL, \n",
    "  Pclass INTEGER NOT NULL, \n",
    "  Name VARCHAR(200), \n",
    "  Sex VARCHAR(20), \n",
    "  Age INTEGER, \n",
    "  SibSp INTEGER, \n",
    "  Parch INTEGER);\n",
    "\"\"\""
   ]
  },
  {
   "cell_type": "code",
   "execution_count": null,
   "metadata": {},
   "outputs": [],
   "source": [
    "executa(tabela_passageiros_comando)"
   ]
  },
  {
   "cell_type": "markdown",
   "metadata": {},
   "source": [
    "### TAREFA 04\n",
    "1. Cria a tabela passagens.\n",
    "2. PassengerId deve ser a chave primária.\n",
    "3. Atualize as partes contendo `...` com o que falta no seu código"
   ]
  },
  {
   "cell_type": "code",
   "execution_count": null,
   "metadata": {},
   "outputs": [],
   "source": [
    "tabela_passagens_comando = \"\"\"\n",
    "CREATE TABLE passagens(PassengerId INTEGER NOT NULL PRIMARY KEY, \n",
    "  Ticket VARCHAR(200), \n",
    "  Fare DECIMAL(9,2), \n",
    "  Cabin VARCHAR(20), \n",
    "  Embarked VARCHAR(5));\n",
    "\"\"\""
   ]
  },
  {
   "cell_type": "code",
   "execution_count": null,
   "metadata": {},
   "outputs": [],
   "source": [
    "executa(tabela_passagens_comando)"
   ]
  },
  {
   "cell_type": "markdown",
   "metadata": {},
   "source": [
    "**Atenção:** Caso você tente executar os comandos de criação de tabelas mais de uma vez, perceberá um erro de operação informando que a tabela já existe.\n",
    "\n",
    "Vamos verificar se as tabelas foram realmente criadas? Abra o terminal e na pasta atual digite:\n",
    "```\n",
    "$ sqlite3 titanic.db \".tables\"\n",
    "```\n",
    "O terminal deve retornar com as tabelas existentes em seu banco [titanic.db](titanic.db). Neste casos, *passageiros* e *passagens*. Lembre-se que neste momento, não temos nenhum dado inseridos nas tabelas.\n",
    "\n",
    "Caso queira verifcar mais algumas informações das tabelas criadas, pode executar esta outra instrução:\n",
    "```\n",
    "$ sqlite3 titanic.db \"PRAGMA table_info(passageiros)\"\n",
    "```"
   ]
  },
  {
   "cell_type": "markdown",
   "metadata": {},
   "source": [
    "### TAREFA 05\n",
    "1. Pelo terminal, verifique mais informações da tabela passagens."
   ]
  },
  {
   "cell_type": "markdown",
   "metadata": {},
   "source": [
    "### 2.4. Inserindo dados nas tabelas\n",
    "Usando o comando INSERT INTO, vamos popular as nossas tabelas. O processo é simples, percorremos as listas de dicionários, montamos nosso comando INSERT INTO e executamos - uma a uma. Para a tabela passageiros:"
   ]
  },
  {
   "cell_type": "code",
   "execution_count": null,
   "metadata": {},
   "outputs": [],
   "source": [
    "for p in passageiros:\n",
    "    p['Name'] = p['Name'].replace('\"', \"'\")\n",
    "    inserir_passageiro = (\"\"\"\n",
    "    INSERT INTO passageiros(PassengerId, Survived, Pclass, Name, Sex, Age, Sibsp, Parch)\n",
    "    VALUES (%s, \"%s\", \"%s\", \"%s\", \"%s\", \"%s\", \"%s\", \"%s\")\"\"\") % (p['PassengerId'], p['Survived'], p['Pclass'],\n",
    "                                                                 p['Name'], p['Sex'], p['Age'], p['SibSp'],\n",
    "                                                                 p['Parch'])\n",
    "    executa(inserir_passageiro)"
   ]
  },
  {
   "cell_type": "markdown",
   "metadata": {},
   "source": [
    "### TAREFA 06\n",
    "1. Insira os dados de passagens dentro da tabela passagens"
   ]
  },
  {
   "cell_type": "code",
   "execution_count": null,
   "metadata": {},
   "outputs": [],
   "source": [
    "for p in passagens:\n",
    "    inserir_passagens = (\"\"\"\n",
    "    INSERT INTO passagens(PassengerId, Ticket, Fare, Cabin, Embarked)\n",
    "    VALUES (%s, \"%s\", \"%s\", \"%s\", \"%s\")\"\"\") % (p['PassengerId'], p['Ticket'], p['Fare'], \n",
    "                                               p['Cabin'], p['Embarked'])\n",
    "    executa(inserir_passagens)"
   ]
  },
  {
   "cell_type": "markdown",
   "metadata": {},
   "source": [
    "### 2.5. Executando consultas\n",
    "Agora que os dados estão inseridos no arquivo banco SQLite, vamos executar alguns consultas. Vamos começar fazendo uma seleção de todas as colunas das tabelas.\n",
    "\n",
    "O comando SELECT retorna dados, deste modo, precisamos fazer alguma alteração na função executa. utilize o *executa_consulta()*."
   ]
  },
  {
   "cell_type": "code",
   "execution_count": null,
   "metadata": {},
   "outputs": [],
   "source": [
    "def executa_consulta(consulta):\n",
    "    cursor = conn.cursor()\n",
    "    cursor.execute(consulta)\n",
    "    for linha in cursor.fetchall():\n",
    "        print(linha)\n",
    "    \n",
    "    cursor.close()"
   ]
  },
  {
   "cell_type": "markdown",
   "metadata": {},
   "source": [
    "Testando nosso código. Repare que o comando LIMIT foi utilizado para limitar a quantidade de linhas."
   ]
  },
  {
   "cell_type": "code",
   "execution_count": null,
   "metadata": {},
   "outputs": [],
   "source": [
    "consulta_passageiro = \"\"\"SELECT * FROM PASSAGEIROS LIMIT 10\"\"\"\n",
    "executa_consulta(consulta_passageiro)"
   ]
  },
  {
   "cell_type": "code",
   "execution_count": null,
   "metadata": {},
   "outputs": [],
   "source": [
    "consulta_passagens = \"\"\"SELECT * FROM PASSAGENS LIMIT 10\"\"\"\n",
    "executa_consulta(consulta_passagens)"
   ]
  },
  {
   "cell_type": "markdown",
   "metadata": {},
   "source": [
    "Também podemos imprimir mais informações sobre uma tabela usando o seguinte comando:"
   ]
  },
  {
   "cell_type": "code",
   "execution_count": null,
   "metadata": {},
   "outputs": [],
   "source": [
    "executa_consulta('pragma table_info(passageiros)')"
   ]
  },
  {
   "cell_type": "markdown",
   "metadata": {},
   "source": [
    "### TAREFA 07\n",
    "1. Verifique quantos tipos de classe (PClass) existem na tabela passageiros."
   ]
  },
  {
   "cell_type": "code",
   "execution_count": null,
   "metadata": {},
   "outputs": [],
   "source": [
    "consulta = \"\"\"SELECT * FROM passageiros WHERE Sex='male' and PClass=2\"\"\"\n",
    "executa_consulta(consulta)"
   ]
  },
  {
   "cell_type": "markdown",
   "metadata": {},
   "source": [
    "### TAREFA 08\n",
    "1. Selecione os passageiros do sexo masculino (Sex) e que estejam na segunda classe (PClass).\n",
    "\n",
    "**DICA**: Use a cláusula WHERE e uma condicional (AND ou OR)."
   ]
  },
  {
   "cell_type": "code",
   "execution_count": null,
   "metadata": {},
   "outputs": [],
   "source": [
    "consulta = \"\"\"SELECT * FROM passageiros WHERE Sex='male' and PClass=2\"\"\"\n",
    "executa_consulta(consulta)"
   ]
  },
  {
   "cell_type": "markdown",
   "metadata": {},
   "source": [
    "### TAREFA 09\n",
    "1. Conte quantos passageiros existem por sexo.\n",
    "\n",
    "**DICA**: Use GROUP BY e COUNT()."
   ]
  },
  {
   "cell_type": "code",
   "execution_count": null,
   "metadata": {},
   "outputs": [],
   "source": [
    "consulta = \"\"\"SELECT Sex, count() FROM passageiros GROUP BY Sex\"\"\"\n",
    "executa_consulta(consulta)"
   ]
  },
  {
   "cell_type": "markdown",
   "metadata": {},
   "source": [
    "### TAREFA 10\n",
    "1. Verifique o valor médio das passagens em cada porto de embarque\n",
    "\n",
    "**DICA**: Use GROUP BY e AVG(). A presença de valores missing pode apresentar alguns resultados estranhos."
   ]
  },
  {
   "cell_type": "code",
   "execution_count": null,
   "metadata": {},
   "outputs": [],
   "source": [
    "consulta = \"\"\"SELECT Embarked, AVG(Fare) FROM passagens GROUP BY Embarked\"\"\"\n",
    "executa_consulta(consulta)"
   ]
  },
  {
   "cell_type": "markdown",
   "metadata": {},
   "source": [
    "### TAREFA 11\n",
    "1. Selecione o nome (Name), sexo(Sex) e tarifa(Fare) paga de 5 passageiros\n",
    "2. Utilize as tabelas passageiros e passagens.\n",
    "\n",
    "**DICA**: Use JOIN."
   ]
  },
  {
   "cell_type": "code",
   "execution_count": null,
   "metadata": {},
   "outputs": [],
   "source": [
    "consulta = \"\"\"SELECT Name, Sex, Fare \n",
    "FROM passagens PA INNER JOIN passageiros PO ON PA.PassengerId=PO.PassengerId\n",
    "LIMIT 5\"\"\"\n",
    "executa_consulta(consulta)"
   ]
  },
  {
   "cell_type": "markdown",
   "metadata": {},
   "source": [
    "### TAREFA 12\n",
    "1. Selecione o valor máximo (Fare) das passagens por classe."
   ]
  },
  {
   "cell_type": "code",
   "execution_count": null,
   "metadata": {},
   "outputs": [],
   "source": [
    "consulta = \"\"\"SELECT B.Pclass, max(A.Fare)\n",
    "FROM PASSAGENS A INNER JOIN PASSAGEIROS B\n",
    "  ON A.PassengerId=B.PassengerId\n",
    "GROUP BY B.Pclass\"\"\"\n",
    "executa_consulta(consulta)"
   ]
  },
  {
   "cell_type": "markdown",
   "metadata": {},
   "source": [
    "### TAREFA 13\n",
    "1. Descubra quantas pessoas embarcaram por porto\n",
    "2. Agrupando por porto e sexo."
   ]
  },
  {
   "cell_type": "code",
   "execution_count": null,
   "metadata": {},
   "outputs": [],
   "source": [
    "consulta = \"\"\"SELECT Embarked, Sex, Count()\n",
    "FROM PASSAGENS A INNER JOIN PASSAGEIROS B\n",
    "  ON A.PassengerId=B.PassengerId\n",
    "GROUP BY Embarked, Sex\"\"\"\n",
    "executa_consulta(consulta)"
   ]
  },
  {
   "cell_type": "markdown",
   "metadata": {},
   "source": [
    "## 3. Conclusão\n",
    "\n",
    "A quantidade de consultas e a lista de comandos SQL é enorme. A interação foi somente relembrar alguns comandos básicos para que você se sinta confortável para explorar qualquer banco de dados SQL que você encontrar.\n"
   ]
  },
  {
   "cell_type": "markdown",
   "metadata": {},
   "source": [
    "### Awari -  <a href=\"https://awari.com.br/\"> awari.com.br</a>"
   ]
  }
 ],
 "metadata": {
  "anaconda-cloud": {},
  "kernelspec": {
   "display_name": "Python 3",
   "language": "python",
   "name": "python3"
  },
  "language_info": {
   "codemirror_mode": {
    "name": "ipython",
    "version": 3
   },
   "file_extension": ".py",
   "mimetype": "text/x-python",
   "name": "python",
   "nbconvert_exporter": "python",
   "pygments_lexer": "ipython3",
   "version": "3.8.3"
  }
 },
 "nbformat": 4,
 "nbformat_minor": 4
}
